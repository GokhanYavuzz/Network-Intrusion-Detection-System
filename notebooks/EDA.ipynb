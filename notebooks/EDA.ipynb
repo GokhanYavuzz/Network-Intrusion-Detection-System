{
 "cells": [
  {
   "cell_type": "code",
   "execution_count": 2,
   "id": "1d595ee1",
   "metadata": {},
   "outputs": [],
   "source": [
    "import pandas as pd\n",
    "import numpy as np\n",
    "\n",
    "TARGET = \"label\" # 1=attack, 0=normal\n",
    "RANDOM_STATE = 42"
   ]
  },
  {
   "cell_type": "code",
   "execution_count": 3,
   "id": "ddaf4460",
   "metadata": {},
   "outputs": [
    {
     "name": "stdout",
     "output_type": "stream",
     "text": [
      "Input dataframe has been successfully uploaded.\n",
      "Initial first train size:  (700000, 49)\n",
      "Initial second train size:  (700000, 49)\n",
      "Initial third train size:  (700000, 49)\n",
      "Initial fourth train size:  (440043, 49)\n",
      "Initial features size:  (49, 4)\n"
     ]
    }
   ],
   "source": [
    "df1 = pd.read_csv(\"C:\\\\Users\\\\Gökhan\\\\Desktop\\\\nids-adversarial\\\\data\\\\UNSW-NB15_1.csv\", low_memory=False)\n",
    "df2 = pd.read_csv(\"C:\\\\Users\\\\Gökhan\\\\Desktop\\\\nids-adversarial\\\\data\\\\UNSW-NB15_2.csv\", low_memory=False)\n",
    "df3 = pd.read_csv(\"C:\\\\Users\\\\Gökhan\\\\Desktop\\\\nids-adversarial\\\\data\\\\UNSW-NB15_3.csv\", low_memory=False)\n",
    "df4 = pd.read_csv(\"C:\\\\Users\\\\Gökhan\\\\Desktop\\\\nids-adversarial\\\\data\\\\UNSW-NB15_4.csv\", low_memory=False)\n",
    "feat = pd.read_csv(\"C:\\\\Users\\\\Gökhan\\\\Desktop\\\\nids-adversarial\\\\data\\\\NUSW-NB15_features.csv\", encoding=\"latin1\",low_memory=False)\n",
    "\n",
    "print(\"Input dataframe has been successfully uploaded.\")\n",
    "print(\"Initial first train size: \", df1.shape)\n",
    "print(\"Initial second train size: \", df2.shape)\n",
    "print(\"Initial third train size: \", df3.shape)\n",
    "print(\"Initial fourth train size: \", df4.shape)\n",
    "print(\"Initial features size: \", feat.shape)\n"
   ]
  },
  {
   "cell_type": "code",
   "execution_count": 4,
   "id": "18772970",
   "metadata": {},
   "outputs": [
    {
     "name": "stdout",
     "output_type": "stream",
     "text": [
      "Sütun adı sayısı: 49\n",
      "Birleşik şekil: (2540043, 49)\n"
     ]
    }
   ],
   "source": [
    "# --- 1) features dosyasından sütun adlarını çek ---\n",
    "feature_names = feat[\"Name\"].astype(str).str.strip().tolist()\n",
    "print(\"Sütun adı sayısı:\", len(feature_names))\n",
    "\n",
    "# --- 2) subsetlerin kolon adlarını ata ---\n",
    "for d in (df1, df2, df3, df4):\n",
    "    d.columns = feature_names\n",
    "\n",
    "# --- 3) hepsini birleştir ---\n",
    "df_full = pd.concat([df1, df2, df3, df4], ignore_index=True)\n",
    "print(\"Birleşik şekil:\", df_full.shape)"
   ]
  },
  {
   "cell_type": "code",
   "execution_count": 5,
   "id": "636901b6",
   "metadata": {},
   "outputs": [
    {
     "data": {
      "text/html": [
       "<div>\n",
       "<style scoped>\n",
       "    .dataframe tbody tr th:only-of-type {\n",
       "        vertical-align: middle;\n",
       "    }\n",
       "\n",
       "    .dataframe tbody tr th {\n",
       "        vertical-align: top;\n",
       "    }\n",
       "\n",
       "    .dataframe thead th {\n",
       "        text-align: right;\n",
       "    }\n",
       "</style>\n",
       "<table border=\"1\" class=\"dataframe\">\n",
       "  <thead>\n",
       "    <tr style=\"text-align: right;\">\n",
       "      <th></th>\n",
       "      <th>srcip</th>\n",
       "      <th>sport</th>\n",
       "      <th>dstip</th>\n",
       "      <th>dsport</th>\n",
       "      <th>proto</th>\n",
       "      <th>state</th>\n",
       "      <th>dur</th>\n",
       "      <th>sbytes</th>\n",
       "      <th>dbytes</th>\n",
       "      <th>sttl</th>\n",
       "      <th>...</th>\n",
       "      <th>ct_ftp_cmd</th>\n",
       "      <th>ct_srv_src</th>\n",
       "      <th>ct_srv_dst</th>\n",
       "      <th>ct_dst_ltm</th>\n",
       "      <th>ct_src_ ltm</th>\n",
       "      <th>ct_src_dport_ltm</th>\n",
       "      <th>ct_dst_sport_ltm</th>\n",
       "      <th>ct_dst_src_ltm</th>\n",
       "      <th>attack_cat</th>\n",
       "      <th>Label</th>\n",
       "    </tr>\n",
       "  </thead>\n",
       "  <tbody>\n",
       "    <tr>\n",
       "      <th>0</th>\n",
       "      <td>59.166.0.0</td>\n",
       "      <td>33661</td>\n",
       "      <td>149.171.126.9</td>\n",
       "      <td>1024</td>\n",
       "      <td>udp</td>\n",
       "      <td>CON</td>\n",
       "      <td>0.036133</td>\n",
       "      <td>528</td>\n",
       "      <td>304</td>\n",
       "      <td>31</td>\n",
       "      <td>...</td>\n",
       "      <td>0</td>\n",
       "      <td>2</td>\n",
       "      <td>4</td>\n",
       "      <td>2</td>\n",
       "      <td>3</td>\n",
       "      <td>1</td>\n",
       "      <td>1</td>\n",
       "      <td>2</td>\n",
       "      <td>NaN</td>\n",
       "      <td>0</td>\n",
       "    </tr>\n",
       "    <tr>\n",
       "      <th>1</th>\n",
       "      <td>59.166.0.6</td>\n",
       "      <td>1464</td>\n",
       "      <td>149.171.126.7</td>\n",
       "      <td>53</td>\n",
       "      <td>udp</td>\n",
       "      <td>CON</td>\n",
       "      <td>0.001119</td>\n",
       "      <td>146</td>\n",
       "      <td>178</td>\n",
       "      <td>31</td>\n",
       "      <td>...</td>\n",
       "      <td>0</td>\n",
       "      <td>12</td>\n",
       "      <td>8</td>\n",
       "      <td>1</td>\n",
       "      <td>2</td>\n",
       "      <td>2</td>\n",
       "      <td>1</td>\n",
       "      <td>1</td>\n",
       "      <td>NaN</td>\n",
       "      <td>0</td>\n",
       "    </tr>\n",
       "    <tr>\n",
       "      <th>2</th>\n",
       "      <td>59.166.0.5</td>\n",
       "      <td>3593</td>\n",
       "      <td>149.171.126.5</td>\n",
       "      <td>53</td>\n",
       "      <td>udp</td>\n",
       "      <td>CON</td>\n",
       "      <td>0.001209</td>\n",
       "      <td>132</td>\n",
       "      <td>164</td>\n",
       "      <td>31</td>\n",
       "      <td>...</td>\n",
       "      <td>0</td>\n",
       "      <td>6</td>\n",
       "      <td>9</td>\n",
       "      <td>1</td>\n",
       "      <td>1</td>\n",
       "      <td>1</td>\n",
       "      <td>1</td>\n",
       "      <td>1</td>\n",
       "      <td>NaN</td>\n",
       "      <td>0</td>\n",
       "    </tr>\n",
       "    <tr>\n",
       "      <th>3</th>\n",
       "      <td>59.166.0.3</td>\n",
       "      <td>49664</td>\n",
       "      <td>149.171.126.0</td>\n",
       "      <td>53</td>\n",
       "      <td>udp</td>\n",
       "      <td>CON</td>\n",
       "      <td>0.001169</td>\n",
       "      <td>146</td>\n",
       "      <td>178</td>\n",
       "      <td>31</td>\n",
       "      <td>...</td>\n",
       "      <td>0</td>\n",
       "      <td>7</td>\n",
       "      <td>9</td>\n",
       "      <td>1</td>\n",
       "      <td>1</td>\n",
       "      <td>1</td>\n",
       "      <td>1</td>\n",
       "      <td>1</td>\n",
       "      <td>NaN</td>\n",
       "      <td>0</td>\n",
       "    </tr>\n",
       "    <tr>\n",
       "      <th>4</th>\n",
       "      <td>59.166.0.0</td>\n",
       "      <td>32119</td>\n",
       "      <td>149.171.126.9</td>\n",
       "      <td>111</td>\n",
       "      <td>udp</td>\n",
       "      <td>CON</td>\n",
       "      <td>0.078339</td>\n",
       "      <td>568</td>\n",
       "      <td>312</td>\n",
       "      <td>31</td>\n",
       "      <td>...</td>\n",
       "      <td>0</td>\n",
       "      <td>2</td>\n",
       "      <td>4</td>\n",
       "      <td>2</td>\n",
       "      <td>3</td>\n",
       "      <td>1</td>\n",
       "      <td>1</td>\n",
       "      <td>2</td>\n",
       "      <td>NaN</td>\n",
       "      <td>0</td>\n",
       "    </tr>\n",
       "    <tr>\n",
       "      <th>5</th>\n",
       "      <td>59.166.0.6</td>\n",
       "      <td>2142</td>\n",
       "      <td>149.171.126.4</td>\n",
       "      <td>53</td>\n",
       "      <td>udp</td>\n",
       "      <td>CON</td>\n",
       "      <td>0.001134</td>\n",
       "      <td>132</td>\n",
       "      <td>164</td>\n",
       "      <td>31</td>\n",
       "      <td>...</td>\n",
       "      <td>0</td>\n",
       "      <td>12</td>\n",
       "      <td>7</td>\n",
       "      <td>1</td>\n",
       "      <td>2</td>\n",
       "      <td>2</td>\n",
       "      <td>1</td>\n",
       "      <td>1</td>\n",
       "      <td>NaN</td>\n",
       "      <td>0</td>\n",
       "    </tr>\n",
       "    <tr>\n",
       "      <th>6</th>\n",
       "      <td>10.40.182.3</td>\n",
       "      <td>0</td>\n",
       "      <td>10.40.182.3</td>\n",
       "      <td>0</td>\n",
       "      <td>arp</td>\n",
       "      <td>INT</td>\n",
       "      <td>0.000000</td>\n",
       "      <td>46</td>\n",
       "      <td>0</td>\n",
       "      <td>0</td>\n",
       "      <td>...</td>\n",
       "      <td>0</td>\n",
       "      <td>2</td>\n",
       "      <td>2</td>\n",
       "      <td>2</td>\n",
       "      <td>2</td>\n",
       "      <td>2</td>\n",
       "      <td>2</td>\n",
       "      <td>2</td>\n",
       "      <td>NaN</td>\n",
       "      <td>0</td>\n",
       "    </tr>\n",
       "    <tr>\n",
       "      <th>7</th>\n",
       "      <td>59.166.0.5</td>\n",
       "      <td>40726</td>\n",
       "      <td>149.171.126.6</td>\n",
       "      <td>53</td>\n",
       "      <td>udp</td>\n",
       "      <td>CON</td>\n",
       "      <td>0.001126</td>\n",
       "      <td>146</td>\n",
       "      <td>178</td>\n",
       "      <td>31</td>\n",
       "      <td>...</td>\n",
       "      <td>0</td>\n",
       "      <td>6</td>\n",
       "      <td>7</td>\n",
       "      <td>3</td>\n",
       "      <td>1</td>\n",
       "      <td>1</td>\n",
       "      <td>1</td>\n",
       "      <td>1</td>\n",
       "      <td>NaN</td>\n",
       "      <td>0</td>\n",
       "    </tr>\n",
       "    <tr>\n",
       "      <th>8</th>\n",
       "      <td>59.166.0.7</td>\n",
       "      <td>12660</td>\n",
       "      <td>149.171.126.4</td>\n",
       "      <td>53</td>\n",
       "      <td>udp</td>\n",
       "      <td>CON</td>\n",
       "      <td>0.001167</td>\n",
       "      <td>132</td>\n",
       "      <td>164</td>\n",
       "      <td>31</td>\n",
       "      <td>...</td>\n",
       "      <td>0</td>\n",
       "      <td>6</td>\n",
       "      <td>7</td>\n",
       "      <td>2</td>\n",
       "      <td>1</td>\n",
       "      <td>1</td>\n",
       "      <td>1</td>\n",
       "      <td>1</td>\n",
       "      <td>NaN</td>\n",
       "      <td>0</td>\n",
       "    </tr>\n",
       "    <tr>\n",
       "      <th>9</th>\n",
       "      <td>10.40.170.2</td>\n",
       "      <td>0</td>\n",
       "      <td>10.40.170.2</td>\n",
       "      <td>0</td>\n",
       "      <td>arp</td>\n",
       "      <td>INT</td>\n",
       "      <td>0.000000</td>\n",
       "      <td>46</td>\n",
       "      <td>0</td>\n",
       "      <td>0</td>\n",
       "      <td>...</td>\n",
       "      <td>0</td>\n",
       "      <td>2</td>\n",
       "      <td>2</td>\n",
       "      <td>2</td>\n",
       "      <td>2</td>\n",
       "      <td>2</td>\n",
       "      <td>2</td>\n",
       "      <td>2</td>\n",
       "      <td>NaN</td>\n",
       "      <td>0</td>\n",
       "    </tr>\n",
       "  </tbody>\n",
       "</table>\n",
       "<p>10 rows × 49 columns</p>\n",
       "</div>"
      ],
      "text/plain": [
       "         srcip  sport          dstip dsport proto state       dur  sbytes  \\\n",
       "0   59.166.0.0  33661  149.171.126.9   1024   udp   CON  0.036133     528   \n",
       "1   59.166.0.6   1464  149.171.126.7     53   udp   CON  0.001119     146   \n",
       "2   59.166.0.5   3593  149.171.126.5     53   udp   CON  0.001209     132   \n",
       "3   59.166.0.3  49664  149.171.126.0     53   udp   CON  0.001169     146   \n",
       "4   59.166.0.0  32119  149.171.126.9    111   udp   CON  0.078339     568   \n",
       "5   59.166.0.6   2142  149.171.126.4     53   udp   CON  0.001134     132   \n",
       "6  10.40.182.3      0    10.40.182.3      0   arp   INT  0.000000      46   \n",
       "7   59.166.0.5  40726  149.171.126.6     53   udp   CON  0.001126     146   \n",
       "8   59.166.0.7  12660  149.171.126.4     53   udp   CON  0.001167     132   \n",
       "9  10.40.170.2      0    10.40.170.2      0   arp   INT  0.000000      46   \n",
       "\n",
       "   dbytes  sttl  ...  ct_ftp_cmd  ct_srv_src  ct_srv_dst ct_dst_ltm  \\\n",
       "0     304    31  ...           0           2           4          2   \n",
       "1     178    31  ...           0          12           8          1   \n",
       "2     164    31  ...           0           6           9          1   \n",
       "3     178    31  ...           0           7           9          1   \n",
       "4     312    31  ...           0           2           4          2   \n",
       "5     164    31  ...           0          12           7          1   \n",
       "6       0     0  ...           0           2           2          2   \n",
       "7     178    31  ...           0           6           7          3   \n",
       "8     164    31  ...           0           6           7          2   \n",
       "9       0     0  ...           0           2           2          2   \n",
       "\n",
       "   ct_src_ ltm  ct_src_dport_ltm  ct_dst_sport_ltm  ct_dst_src_ltm  \\\n",
       "0            3                 1                 1               2   \n",
       "1            2                 2                 1               1   \n",
       "2            1                 1                 1               1   \n",
       "3            1                 1                 1               1   \n",
       "4            3                 1                 1               2   \n",
       "5            2                 2                 1               1   \n",
       "6            2                 2                 2               2   \n",
       "7            1                 1                 1               1   \n",
       "8            1                 1                 1               1   \n",
       "9            2                 2                 2               2   \n",
       "\n",
       "   attack_cat  Label  \n",
       "0         NaN      0  \n",
       "1         NaN      0  \n",
       "2         NaN      0  \n",
       "3         NaN      0  \n",
       "4         NaN      0  \n",
       "5         NaN      0  \n",
       "6         NaN      0  \n",
       "7         NaN      0  \n",
       "8         NaN      0  \n",
       "9         NaN      0  \n",
       "\n",
       "[10 rows x 49 columns]"
      ]
     },
     "execution_count": 5,
     "metadata": {},
     "output_type": "execute_result"
    }
   ],
   "source": [
    "df_full.head(10)"
   ]
  },
  {
   "cell_type": "code",
   "execution_count": 6,
   "id": "743c3098",
   "metadata": {},
   "outputs": [
    {
     "name": "stdout",
     "output_type": "stream",
     "text": [
      "                  # Missing Data\n",
      "sport                          2\n",
      "dsport                         7\n",
      "state                          8\n",
      "service                  1246395\n",
      "ct_flw_http_mthd         1348143\n",
      "is_ftp_login             1429877\n",
      "attack_cat               2218760\n"
     ]
    }
   ],
   "source": [
    "df_full.replace(['', '-', 'no', '.'], np.nan, inplace=True)\n",
    "\n",
    "NAs = pd.concat([df_full.isnull().sum()], axis=1, keys=[\"# Missing Data\"])\n",
    "print(NAs[NAs[\"# Missing Data\"] > 0])"
   ]
  },
  {
   "cell_type": "code",
   "execution_count": 7,
   "id": "fcdc8d29",
   "metadata": {},
   "outputs": [
    {
     "name": "stdout",
     "output_type": "stream",
     "text": [
      "['srcip', 'sport', 'dstip', 'dsport', 'proto', 'state', 'dur', 'sbytes', 'dbytes', 'sttl', 'dttl', 'sloss', 'dloss', 'service', 'Sload', 'Dload', 'Spkts', 'Dpkts', 'swin', 'dwin', 'stcpb', 'dtcpb', 'smeansz', 'dmeansz', 'trans_depth', 'res_bdy_len', 'Sjit', 'Djit', 'Stime', 'Ltime', 'Sintpkt', 'Dintpkt', 'tcprtt', 'synack', 'ackdat', 'is_sm_ips_ports', 'ct_state_ttl', 'ct_flw_http_mthd', 'is_ftp_login', 'ct_ftp_cmd', 'ct_srv_src', 'ct_srv_dst', 'ct_dst_ltm', 'ct_src_ ltm', 'ct_src_dport_ltm', 'ct_dst_sport_ltm', 'ct_dst_src_ltm', 'attack_cat', 'Label']\n"
     ]
    }
   ],
   "source": [
    "print(df_full.columns.tolist())\n"
   ]
  },
  {
   "cell_type": "code",
   "execution_count": 8,
   "id": "c1da15c1",
   "metadata": {},
   "outputs": [],
   "source": [
    "df_full = df_full.drop(columns=['service'])\n",
    "df_full = df_full.drop(columns=['srcip'])\n",
    "df_full = df_full.drop(columns=['dstip'])\n",
    "df_full = df_full.drop(columns=['ct_flw_http_mthd'])\n",
    "df_full = df_full.drop(columns=['is_ftp_login'])\n",
    "df_full = df_full.dropna(subset=[\"state\"])\n",
    "df_full = df_full.dropna(subset=[\"sport\"])\n",
    "df_full = df_full.dropna(subset=[\"dsport\"])"
   ]
  },
  {
   "cell_type": "code",
   "execution_count": 9,
   "id": "85495df8",
   "metadata": {},
   "outputs": [
    {
     "name": "stdout",
     "output_type": "stream",
     "text": [
      "sport: non-numeric = 3 / 2540027\n",
      "Top offenders: {'0x000c': 2, '0x000b': 1} \n",
      "\n",
      "dsport: non-numeric = 296 / 2540027\n",
      "Top offenders: {'0xcc09': 241, '0xc0a8': 54, '0x20205321': 1} \n",
      "\n"
     ]
    }
   ],
   "source": [
    "cols = [\"sport\", \"dsport\"]\n",
    "\n",
    "for c in cols:\n",
    "    s = df_full[c]\n",
    "    # Sayıya çevrilemeyenler: to_numeric -> NaN OLAN ama orijinali NaN OLMAYAN\n",
    "    bad_mask = pd.to_numeric(s, errors=\"coerce\").isna() & ~pd.isna(s)\n",
    "    print(f\"{c}: non-numeric = {bad_mask.sum()} / {len(s)}\")\n",
    "    # En çok geçen şüpheli değerleri göster (örn. '-', 'None' vs.)\n",
    "    print(\"Top offenders:\", s[bad_mask].value_counts().head(10).to_dict(), \"\\n\")\n"
   ]
  },
  {
   "cell_type": "code",
   "execution_count": 10,
   "id": "5646c2bf",
   "metadata": {},
   "outputs": [],
   "source": [
    "# Converting hexadecimal values to decimal system in 'sport' feature\n",
    "df_full['sport'] = df_full['sport'].replace(['0x000b'],'11')\n",
    "df_full['sport'] = df_full['sport'].replace(['0x000c'],'12')\n",
    "\n",
    "# Converting hexadecimal values to decimal system in 'dsport' feature\n",
    "df_full = df_full[~df_full[\"dsport\"].str.contains(\"0x20205321\")]\n",
    "df_full['dsport'] = df_full['dsport'].replace(['0xc0a8'],'49320')\n",
    "df_full['dsport'] = df_full['dsport'].replace(['0xcc09'],'52233')"
   ]
  },
  {
   "cell_type": "code",
   "execution_count": 11,
   "id": "195ff0f8",
   "metadata": {},
   "outputs": [
    {
     "name": "stdout",
     "output_type": "stream",
     "text": [
      "Train shape: (2540026, 44)\n"
     ]
    }
   ],
   "source": [
    "print(\"Train shape:\", df_full.shape)"
   ]
  },
  {
   "cell_type": "code",
   "execution_count": 12,
   "id": "79499c51",
   "metadata": {},
   "outputs": [
    {
     "name": "stdout",
     "output_type": "stream",
     "text": [
      "            # Missing Data\n",
      "attack_cat         2218743\n",
      "------------\n"
     ]
    }
   ],
   "source": [
    "df_full.replace(['', '-', 'no', '.'], np.nan, inplace=True)\n",
    "\n",
    "\n",
    "NAs = pd.concat([df_full.isnull().sum()], axis=1, keys=[\"# Missing Data\"])\n",
    "print(NAs[NAs[\"# Missing Data\"] > 0])\n",
    "print(\"------------\")\n"
   ]
  },
  {
   "cell_type": "code",
   "execution_count": 13,
   "id": "9f37ec4b",
   "metadata": {},
   "outputs": [],
   "source": [
    "df_full['attack_cat'] = df_full['attack_cat'].fillna('Normal')"
   ]
  },
  {
   "cell_type": "code",
   "execution_count": 14,
   "id": "8357b7ca",
   "metadata": {},
   "outputs": [],
   "source": [
    "df_full.to_csv(\"C:\\\\Users\\\\Gökhan\\\\Desktop\\\\nids-adversarial\\\\data\\\\with_attack_cat_clear_data.csv\", index=False, encoding=\"utf-8-sig\")\n",
    "#data seti kaydet"
   ]
  },
  {
   "cell_type": "code",
   "execution_count": 15,
   "id": "33422338",
   "metadata": {},
   "outputs": [],
   "source": [
    "df_full = df_full.drop(columns=['attack_cat'], errors='ignore')"
   ]
  },
  {
   "cell_type": "code",
   "execution_count": 16,
   "id": "46fdd1a5",
   "metadata": {},
   "outputs": [
    {
     "name": "stdout",
     "output_type": "stream",
     "text": [
      "Empty DataFrame\n",
      "Columns: [# Missing Data]\n",
      "Index: []\n",
      "------------\n"
     ]
    }
   ],
   "source": [
    "df_full.replace(['', '-', 'no', '.'], np.nan, inplace=True)\n",
    "\n",
    "\n",
    "NAs = pd.concat([df_full.isnull().sum()], axis=1, keys=[\"# Missing Data\"])\n",
    "print(NAs[NAs[\"# Missing Data\"] > 0])\n",
    "print(\"------------\")\n"
   ]
  },
  {
   "cell_type": "code",
   "execution_count": 17,
   "id": "261596fd",
   "metadata": {},
   "outputs": [
    {
     "name": "stdout",
     "output_type": "stream",
     "text": [
      "-> Train üzerinde düşük varyans adayları (threshold=0.95): 1 sütun\n",
      "['is_sm_ips_ports']\n"
     ]
    }
   ],
   "source": [
    "# --- 2) Low-variance (sabit) sütun tespiti (train'e göre fit) ---\n",
    "# eşiği ayarlayabilirsin; örn 0.95 = tek bir değer tüm satırların %95'inde mevcutsa sabit kabul et\n",
    "LOW_VAR_THRESHOLD = 0.95 \n",
    "\n",
    "# sütunları korumak istiyorsan ekle (etiket vs.)\n",
    "protected_cols = {'label', 'attack_cat'}\n",
    "\n",
    "low_var_cols = []\n",
    "for c in df_full.columns:\n",
    "    if c in protected_cols:\n",
    "        continue\n",
    "    nunique = df_full[c].nunique(dropna=True)\n",
    "    if nunique <= 1:\n",
    "        # tamamen sabit veya tek değerli\n",
    "        low_var_cols.append(c)\n",
    "        continue\n",
    "    # top value oranı\n",
    "    top_pct = df_full[c].value_counts(normalize=True, dropna=True).iloc[0]\n",
    "    if top_pct >= LOW_VAR_THRESHOLD:\n",
    "        low_var_cols.append(c)\n",
    "\n",
    "# Eğer hiçbir düşük varyans sütunu yoksa liste boş olur\n",
    "print(f\"-> Train üzerinde düşük varyans adayları (threshold={LOW_VAR_THRESHOLD}): {len(low_var_cols)} sütun\")\n",
    "print(low_var_cols)"
   ]
  },
  {
   "cell_type": "code",
   "execution_count": 18,
   "id": "eb762611",
   "metadata": {},
   "outputs": [
    {
     "name": "stdout",
     "output_type": "stream",
     "text": [
      "-> Drop işleminden sonra yeni şekiller: (2540026, 42)\n",
      "-> Silinen sütunlar: ['is_sm_ips_ports']\n"
     ]
    }
   ],
   "source": [
    "# --- 3) Bu sütunları çıkar (varsa) ---\n",
    "# (önce güvenlik: protected sütunların listeye girmediğinden emin ol)\n",
    "low_var_cols_to_drop = [c for c in low_var_cols if c not in protected_cols]\n",
    "\n",
    "dropped_cols = []\n",
    "\n",
    "# drop et\n",
    "if low_var_cols_to_drop:\n",
    "    df_full = df_full.drop(columns=low_var_cols_to_drop, errors='ignore')\n",
    "    dropped_cols += low_var_cols_to_drop\n",
    "\n",
    "print(\"-> Drop işleminden sonra yeni şekiller:\", df_full.shape)\n",
    "print(\"-> Silinen sütunlar:\", dropped_cols)\n"
   ]
  },
  {
   "cell_type": "code",
   "execution_count": 19,
   "id": "c18f62d8",
   "metadata": {},
   "outputs": [
    {
     "name": "stdout",
     "output_type": "stream",
     "text": [
      "Empty DataFrame\n",
      "Columns: [# Missing Data]\n",
      "Index: []\n",
      "------------\n"
     ]
    }
   ],
   "source": [
    "df_full.replace(['', '-', 'no', '.'], np.nan, inplace=True)\n",
    "\n",
    "\n",
    "NAs = pd.concat([df_full.isnull().sum()], axis=1, keys=[\"# Missing Data\"])\n",
    "print(NAs[NAs[\"# Missing Data\"] > 0])\n",
    "print(\"------------\")\n"
   ]
  },
  {
   "cell_type": "code",
   "execution_count": 20,
   "id": "e98be8d5",
   "metadata": {},
   "outputs": [],
   "source": [
    "df_full.to_csv(\"C:\\\\Users\\\\Gökhan\\\\Desktop\\\\nids-adversarial\\\\data\\\\without_Attack_cat_clear_data_full.csv\", index=False, encoding=\"utf-8-sig\")\n",
    "#data seti kaydet"
   ]
  }
 ],
 "metadata": {
  "kernelspec": {
   "display_name": "Python 3",
   "language": "python",
   "name": "python3"
  },
  "language_info": {
   "codemirror_mode": {
    "name": "ipython",
    "version": 3
   },
   "file_extension": ".py",
   "mimetype": "text/x-python",
   "name": "python",
   "nbconvert_exporter": "python",
   "pygments_lexer": "ipython3",
   "version": "3.11.0"
  }
 },
 "nbformat": 4,
 "nbformat_minor": 5
}
